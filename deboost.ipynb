{
 "cells": [
  {
   "cell_type": "markdown",
   "metadata": {},
   "source": [
    "## Deboost Bubbles"
   ]
  },
  {
   "cell_type": "markdown",
   "metadata": {},
   "source": [
    "##### All paths below should be modified"
   ]
  },
  {
   "cell_type": "code",
   "execution_count": null,
   "metadata": {
    "tags": []
   },
   "outputs": [],
   "source": [
    "cd '/home/dpirvu/project/paper_prefactor/'"
   ]
  },
  {
   "cell_type": "code",
   "execution_count": 2,
   "metadata": {
    "tags": []
   },
   "outputs": [
    {
     "name": "stdout",
     "output_type": "stream",
     "text": [
      "['/home/dpirvu/project/paper_prefactor', '/cm/shared/apps/python/python37/lib/python37.zip', '/cm/shared/apps/python/python37/lib/python3.7', '/cm/shared/apps/python/python37/lib/python3.7/lib-dynload', '', '/home/dpirvu/.local/lib/python3.7/site-packages', '/cm/shared/apps/python/python37/lib/python3.7/site-packages', '/cm/shared/apps/python/python37/lib/python3.7/site-packages/IPython/extensions', '/home/dpirvu/.ipython', '/home/dpirvu/python_stuff/', '/home/dpirvu/project/paper_prefactor/bubble_codes/']\n",
      "['/home/dpirvu/project/paper_prefactor', '/cm/shared/apps/python/python37/lib/python37.zip', '/cm/shared/apps/python/python37/lib/python3.7', '/cm/shared/apps/python/python37/lib/python3.7/lib-dynload', '', '/home/dpirvu/.local/lib/python3.7/site-packages', '/cm/shared/apps/python/python37/lib/python3.7/site-packages', '/cm/shared/apps/python/python37/lib/python3.7/site-packages/IPython/extensions', '/home/dpirvu/.ipython', '/home/dpirvu/python_stuff/', '/home/dpirvu/project/paper_prefactor/bubble_codes/']\n"
     ]
    }
   ],
   "source": [
    "import os\n",
    "import sys\n",
    "\n",
    "sys.path.append('/home/dpirvu/python_stuff/')\n",
    "sys.path.append('/home/dpirvu/project/paper_prefactor/bubble_codes/')\n",
    "#sys.path.append('/home/dpirvu/project/paper_prefactor/bubble_codes_older/')\n",
    "sys.path.remove('/home/dpirvu/DarkPhotonxunWISE/hmvec-master')\n",
    "\n",
    "print(sys.path)\n",
    "\n",
    "from plotting import *\n",
    "from bubble_tools import *\n",
    "from experiment import *"
   ]
  },
  {
   "cell_type": "code",
   "execution_count": null,
   "metadata": {},
   "outputs": [],
   "source": [
    "%matplotlib inline"
   ]
  },
  {
   "cell_type": "code",
   "execution_count": null,
   "metadata": {},
   "outputs": [],
   "source": [
    "def plot_zoomin(bubble, threshold=2., winsize=100, title=None):\n",
    "    real = np.copy(bubble)\n",
    "    real = real[0]\n",
    "    nT, nN = np.shape(real)\n",
    "    t_centre, x_centre = find_nucleation_center(real, phieq, crit_thresh, crit_rad)\n",
    "    tl_stop, tr_stop = int(max(0, t_centre - winsize)), int(min(nT, t_centre + winsize//2))\n",
    "    xl_stop, xr_stop = int(max(0, x_centre - winsize)), int(min(nN, x_centre + winsize))\n",
    "    real = real[tl_stop:tr_stop, xl_stop:xr_stop]\n",
    "    nT, nN = np.shape(real)\n",
    "    tcen, xcen = find_nucleation_center(real, phieq, crit_thresh, crit_rad)\n",
    "    t, x = np.linspace(-tcen, nT-1-tcen, nT), np.linspace(-xcen, nN-1-xcen, nN)\n",
    "    real[np.abs(real) > threshold] = threshold\n",
    "    simple_imshow([real], x, t, title=title, contour=False, ret=False)\n",
    "    return\n",
    "\n",
    "def simple_imshow_continue(ax, bubble, xList, tList, vmin, vmax, contour=False, title=None, aspect='auto', cmap='tab20c'):\n",
    "    ext = [xList[0],xList[-1],tList[0],tList[-1]]\n",
    "    im = ax.imshow(bubble, interpolation='none', extent=ext, vmin=vmin, vmax=vmax, aspect=aspect, origin='lower', cmap=cmap)\n",
    "    if contour:\n",
    "        ax.contour(xList, tList, bubble, levels=5, linewidths=0.5, colors='k')\n",
    "    clb = plt.colorbar(im, ax = ax, shrink=0.5)\n",
    "    ax.plot(0, 0, 'bo', ms=3)\n",
    "    ax.set_title(title)\n",
    "    return ax\n"
   ]
  },
  {
   "cell_type": "markdown",
   "metadata": {},
   "source": [
    "### Parameters defined in 'experiment' custom module"
   ]
  },
  {
   "cell_type": "code",
   "execution_count": 3,
   "metadata": {
    "tags": []
   },
   "outputs": [
    {
     "name": "stdout",
     "output_type": "stream",
     "text": [
      "Experiment [2048, 0.7, 0.2]\n"
     ]
    }
   ],
   "source": [
    "case = 'minus'\n",
    "general = get_general_model(case)\n",
    "tempList, massq, right_Vmax, V, dV, Vinv, nTimeMAX, minSim, maxSim = general\n",
    "\n",
    "tmp = 2\n",
    "\n",
    "maxSim = (1000 if tmp == 0 else 2000)\n",
    "temp, m2, sigmafld = get_model(*general, tmp)\n",
    "exp_params = [nLat, m2, temp]\n",
    "print('Experiment', exp_params)"
   ]
  },
  {
   "cell_type": "markdown",
   "metadata": {},
   "source": [
    "### Values below depend on shape of potential"
   ]
  },
  {
   "cell_type": "code",
   "execution_count": 5,
   "metadata": {
    "tags": []
   },
   "outputs": [
    {
     "name": "stdout",
     "output_type": "stream",
     "text": [
      "2.70793613122138\n",
      "[1.0, 1.12, 1.25, 1.37, 1.5, 1.62, 1.75, 1.87, 1.99, 2.12, 2.24, 2.37]\n"
     ]
    }
   ],
   "source": [
    "# what is a field amplitude that would indicate that a bubble has likely formed\n",
    "crit_thresh = right_Vmax + 5.*sigmafld; print(crit_thresh)\n",
    "\n",
    "# should be around crit_thresh, although their precise value is inconsequential\n",
    "peak_thresh = 2.8\n",
    "tv_thresh   = 2.5\n",
    "\n",
    "# exected bubble size at nucleation, in # of lattice sites\n",
    "crit_rad    = 20\n",
    "\n",
    "# range of field amplitude for vCOM extraction; see bubble_tools.py module\n",
    "threshm, threshM = right_Vmax + 0.*sigmafld, right_Vmax + 4.*sigmafld\n",
    "ampList = np.linspace(threshm, threshM, 12); print([round(ii, 2) for ii in ampList])\n",
    "\n",
    "# size of window, in lattice sites\n",
    "winsize = 200\n",
    "\n",
    "# whether you want to visualise the process\n",
    "plots = False"
   ]
  },
  {
   "cell_type": "code",
   "execution_count": null,
   "metadata": {},
   "outputs": [],
   "source": [
    "# Set the simulation identifier\n",
    "sim = 10\n",
    "\n",
    "try:\n",
    "    path2sim = bubble_sim_location(*exp_params, sim)\n",
    "    # Load the full simulation data from the specified path\n",
    "    real, _ = get_bubble_realisation(nLat, path2sim)\n",
    "\n",
    "    tdecay = get_decay_time(real)\n",
    "    real = centre_bubble(real, tdecay)\n",
    "    \n",
    "    # Warning: if the velocity is large, you should multiply the bubble (see bubble_tools.py)\n",
    "    # multiply_bubble(real, phieq, normal, nLat)\n",
    "    # real = centre_bubble(real, tdecay)\n",
    "\n",
    "    # Get the dimensions of the full simulation data\n",
    "    # (nCfull: data columns, nTfull: time steps, nNfull: lattice points)\n",
    "    fullreal = np.copy(real)\n",
    "    nCfull, nTfull, nNfull = np.shape(fullreal)\n",
    "except:\n",
    "    print('Does not exist')"
   ]
  },
  {
   "cell_type": "code",
   "execution_count": 7,
   "metadata": {
    "tags": []
   },
   "outputs": [
    {
     "name": "stdout",
     "output_type": "stream",
     "text": [
      "[   0    2    6 ... 1994 1996 1997]\n"
     ]
    }
   ],
   "source": [
    "# Start processing the data\n",
    "bubble = np.copy(fullreal[0]) # deboosting needs the field component only\n",
    "bubble = np.abs(bubble)\n",
    "\n",
    "# It is useful to apply a Gaussian filter to smooth the bubble data\n",
    "bubble = np.array([gaussian_filter(bubble, 1., mode='nearest')])\n",
    "\n",
    "nC, nT, nN = np.shape(bubble)\n",
    "tcen, xcen = find_nucleation_center(bubble[0], phieq, crit_thresh, crit_rad)\n",
    "\n",
    "# Generate time and spatial coordinate lists centered around the nucleation center\n",
    "tList = np.linspace(-tcen, nT-1-tcen, nT)\n",
    "xList = np.linspace(-xcen, nN-1-xcen, nN)\n",
    "\n",
    "\n",
    "# Initialize a boolean flag as a way to know if an error has appeared; if no error, then bool stays True\n",
    "bool = True\n",
    "# Initialize an empty list to store velocities\n",
    "vellist = []\n",
    "\n",
    "# Calculate the center-of-mass (COM) velocity and its variance for the bubble\n",
    "vCOMmeas, varmeas = find_COM_vel(bubble, ampList, winsize, nLat, lightc, phieq, tv_thresh, crit_thresh, crit_rad, plots)\n",
    "\n",
    "# Check if the calculated COM velocity is NaN, indicating an error\n",
    "if np.isnan(vCOMmeas):\n",
    "    print('Dead end at step 0.')\n",
    "    bool = False\n",
    "\n",
    "\n",
    "## Note: for \"doloop\" recursion below:\n",
    "## It is not always necessary to find the velocity recursively. It is extremely time-consuming.\n",
    "## It is possible that the first vCOM measurement above was correct.\n",
    "## Only do this is fluctuations are large,\n",
    "## or if you want precision (i.e. that the residual velocity be < 0.03c)\n",
    "\n",
    "# Initialize a step counter\n",
    "st = 0\n",
    "# Set a flag to control whether the loop for adjusting the velocity should be executed\n",
    "doloop = False\n",
    "\n",
    "# If the loop flag is set to True, enter the loop\n",
    "if doloop:\n",
    "\n",
    "    # Continue looping until the absolute value of the COM velocity is less than 0.03 or an error occurs\n",
    "    while np.abs(vCOMmeas) >= 0.03 and bool:\n",
    "        # If there are velocities in the list, adjust the simulation based on the collected velocities\n",
    "        if len(vellist) > 0:\n",
    "            # Make a copy of the original simulation data\n",
    "            copy = np.copy(fullreal)[:1]\n",
    "\n",
    "            # Calculate the total velocity by combining the velocities in the list\n",
    "            wcop = get_totvel_from_list(vellist)\n",
    "            # Boost the bubble data using the calculated velocity\n",
    "            x, t, copy = boost_bubble(copy, tcen, xcen, wcop)\n",
    "            # Recalculate the COM velocity for the boosted bubble\n",
    "            vTest, _ = find_COM_vel(copy, ampList, winsize, nLat, lightc, phieq, tv_thresh, crit_thresh, crit_rad, False)\n",
    "            print('Upon testing this value, we re-measured vTest compared to vCOMmeas', vTest, vCOMmeas)\n",
    "            # If the new COM velocity is within the acceptable range, update the measured COM velocity\n",
    "            if np.abs(vTest) < 0.03:\n",
    "                vCOMmeas = vTest\n",
    "                break\n",
    "            # If the new velocity is greater than the last recorded velocity, adjust the measured COM velocity\n",
    "            if np.abs(vTest) > np.abs(vellist[-1]):\n",
    "                vCOMmeas = np.sign(vCOMmeas) * random.randint(5, 10) / 10.\n",
    "\n",
    "        # Increment the step counter\n",
    "        st += 1\n",
    "        # Add the current COM velocity to the velocity list and print the step number and velocities\n",
    "        vellist.append(vCOMmeas)\n",
    "        print('Step', st, 'vels collected:', vellist)\n",
    "\n",
    "        # Boost the bubble data using the current COM velocity\n",
    "        t, x, bubble = boost_bubble(bubble, tcen, xcen, vCOMmeas)\n",
    "\n",
    "        # Recalculate the COM velocity and variance for the boosted bubble\n",
    "        vCOMmeas, varmeas = find_COM_vel(bubble, ampList, winsize, nLat, lightc, phieq, tv_thresh, crit_thresh, crit_rad, plots)\n",
    "        # Check if the recalculated COM velocity is NaN, indicating an error\n",
    "        if np.isnan(vCOMmeas):\n",
    "            print('Dead end.')\n",
    "            bool = False\n",
    "\n",
    "# If doloop=False but the first detection was successful OR\n",
    "# if the doloop was exited successfully, proceed to the final steps\n",
    "if bool:\n",
    "    print('Final step.')\n",
    "    # Add the final COM velocity to the velocity list\n",
    "    vellist.append(vCOMmeas)\n",
    "\n",
    "    # Calculate the total velocity by relativistic addition\n",
    "    totvel = get_totvel_from_list(vellist)\n",
    "\n",
    "    # Plot a zoomed-in view of the original simulation data\n",
    "    plot_zoomin(np.copy(fullreal), threshold=peak_thresh, winsize=winsize, title='Original zoom')\n",
    "\n",
    "    # Boost the full simulation data using the calculated total velocity\n",
    "    t, x, fullreal2save = boost_bubble(np.copy(fullreal), tcen, xcen, totvel)\n",
    "\n",
    "    # Plot a zoomed-in view of the boosted simulation data\n",
    "    plot_zoomin(fullreal2save, threshold=peak_thresh, winsize=winsize, title='Final zoom')\n",
    "\n",
    "    # Generate the path to save the boosted simulation data\n",
    "    path2RESTsim = rest_sim_location(*exp_params, sim)\n",
    "\n",
    "    # Note! Sometimes a reflection must be applied, so that all bubbles decay on the same side of the potential\n",
    "\n",
    "    # Save the simulation ID, boosted simulation data, and total velocity as a numpy array\n",
    "    np.save(path2RESTsim, np.array([sim, fullreal2save, totvel]))\n",
    "    print('Saved sim', sim, 'total final velocity, vellist:', totvel, vellist)\n"
   ]
  },
  {
   "cell_type": "markdown",
   "metadata": {},
   "source": [
    "### SHOULD PERFORM VISUAL INSPECTION OF EVERY BUBBLE"
   ]
  },
  {
   "cell_type": "code",
   "execution_count": 8,
   "metadata": {
    "tags": []
   },
   "outputs": [
    {
     "name": "stdout",
     "output_type": "stream",
     "text": [
      "[   0    2    6 ... 1994 1996 1997]\n"
     ]
    }
   ],
   "source": [
    "path2RESTsim  = rest_sim_location(*exp_params, sim)\n",
    "path2cleansim = clean_sim_location(*exp_params, sim)\n",
    "\n",
    "win = 200\n",
    "\n",
    "if os.path.exists(path2cleansim) and os.path.exists(path2RESTsim):\n",
    "    original = np.load(path2cleansim)\n",
    "    sim, final, totvel = np.load(path2RESTsim, allow_pickle=True)\n",
    "    print('Sim ', sim, 'total boost', totvel)\n",
    "\n",
    "    fig, ax = plt.subplots(1, 2, figsize = (8,3))\n",
    "    for ii, bubble in enumerate([original, final]):\n",
    "        real = np.copy(bubble[0])\n",
    "        nT, nN = np.shape(real)\n",
    "        \n",
    "        real = gaussian_filter(real, 1, mode='nearest')\n",
    "        real[np.abs(real) > crit_thresh] = crit_thresh\n",
    "\n",
    "        tcen, xcen = find_nucleation_center(real, phieq, crit_thresh, crit_rad)\n",
    "        tl_stop, tr_stop = int(max(0, tcen - win)), int(min(nT, tcen + win//2))\n",
    "        xl_stop, xr_stop = int(max(0, xcen - win)), int(min(nN, xcen + win))\n",
    "\n",
    "        real = real[tl_stop:tr_stop, xl_stop:xr_stop]\n",
    "        nT, nN = np.shape(real)\n",
    "\n",
    "        tcen, xcen = find_nucleation_center(real, phieq, crit_thresh, crit_rad)\n",
    "        t, x = np.linspace(-tcen, nT-1-tcen, nT), np.linspace(-xcen, nN-1-xcen, nN)\n",
    "\n",
    "        if ii == 0: vmin, vmax = np.amin(real), np.amax(real)\n",
    "        simple_imshow_continue(ax[ii], real, x, t, vmin, vmax, contour=False)\n",
    "\n",
    "    beautify(ax, times=-70)\n",
    "    ax[1].grid(which='major', color='black', alpha=1)\n",
    "    ax[0].grid(which='major', color='black', alpha=1)\n",
    "    plt.tight_layout()\n",
    "    plt.show()\n"
   ]
  },
  {
   "cell_type": "code",
   "execution_count": null,
   "metadata": {},
   "outputs": [],
   "source": []
  }
 ],
 "metadata": {
  "kernelspec": {
   "display_name": "Python 3 (ipykernel)",
   "language": "python",
   "name": "python3"
  },
  "language_info": {
   "codemirror_mode": {
    "name": "ipython",
    "version": 3
   },
   "file_extension": ".py",
   "mimetype": "text/x-python",
   "name": "python",
   "nbconvert_exporter": "python",
   "pygments_lexer": "ipython3",
   "version": "3.9.13"
  }
 },
 "nbformat": 4,
 "nbformat_minor": 4
}
