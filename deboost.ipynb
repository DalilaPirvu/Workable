{
 "cells": [
  {
   "cell_type": "markdown",
   "metadata": {},
   "source": [
    "## Deboost Bubbles"
   ]
  },
  {
   "cell_type": "code",
   "execution_count": null,
   "metadata": {
    "tags": []
   },
   "outputs": [],
   "source": [
    "cd '/home/dpirvu/project/paper_prefactor/'"
   ]
  },
  {
   "cell_type": "code",
   "execution_count": 2,
   "metadata": {
    "tags": []
   },
   "outputs": [
    {
     "name": "stdout",
     "output_type": "stream",
     "text": [
      "['/home/dpirvu/project/paper_prefactor', '/cm/shared/apps/python/python37/lib/python37.zip', '/cm/shared/apps/python/python37/lib/python3.7', '/cm/shared/apps/python/python37/lib/python3.7/lib-dynload', '', '/home/dpirvu/.local/lib/python3.7/site-packages', '/cm/shared/apps/python/python37/lib/python3.7/site-packages', '/cm/shared/apps/python/python37/lib/python3.7/site-packages/IPython/extensions', '/home/dpirvu/.ipython', '/home/dpirvu/python_stuff/', '/home/dpirvu/project/paper_prefactor/bubble_codes/']\n",
      "['/home/dpirvu/project/paper_prefactor', '/cm/shared/apps/python/python37/lib/python37.zip', '/cm/shared/apps/python/python37/lib/python3.7', '/cm/shared/apps/python/python37/lib/python3.7/lib-dynload', '', '/home/dpirvu/.local/lib/python3.7/site-packages', '/cm/shared/apps/python/python37/lib/python3.7/site-packages', '/cm/shared/apps/python/python37/lib/python3.7/site-packages/IPython/extensions', '/home/dpirvu/.ipython', '/home/dpirvu/python_stuff/', '/home/dpirvu/project/paper_prefactor/bubble_codes/']\n"
     ]
    }
   ],
   "source": [
    "import os,sys\n",
    "sys.path.append('/home/dpirvu/python_stuff/')\n",
    "sys.path.append('/home/dpirvu/project/paper_prefactor/bubble_codes/')\n",
    "#sys.path.append('/home/dpirvu/project/paper_prefactor/bubble_codes_older/')\n",
    "sys.path.remove('/home/dpirvu/DarkPhotonxunWISE/hmvec-master')\n",
    "print(sys.path)\n",
    "from plotting import *\n",
    "from bubble_tools import *\n",
    "from experiment import *\n",
    "from celluloid import Camera\n",
    "\n",
    "%matplotlib inline"
   ]
  },
  {
   "cell_type": "code",
   "execution_count": null,
   "metadata": {},
   "outputs": [],
   "source": [
    "def plot_zoomin(bubble, threshold=2., winsize=100, title=None):\n",
    "    real = np.copy(bubble)\n",
    "    real = real[0]\n",
    "    nT, nN = np.shape(real)\n",
    "    t_centre, x_centre = find_nucleation_center(real, phieq, crit_thresh, crit_rad)\n",
    "    tl_stop, tr_stop = int(max(0, t_centre - winsize)), int(min(nT, t_centre + winsize//2))\n",
    "    xl_stop, xr_stop = int(max(0, x_centre - winsize)), int(min(nN, x_centre + winsize))\n",
    "    real = real[tl_stop:tr_stop, xl_stop:xr_stop]\n",
    "    nT, nN = np.shape(real)\n",
    "    tcen, xcen = find_nucleation_center(real, phieq, crit_thresh, crit_rad)\n",
    "    t, x = np.linspace(-tcen, nT-1-tcen, nT), np.linspace(-xcen, nN-1-xcen, nN)\n",
    "    real[np.abs(real) > threshold] = threshold\n",
    "    simple_imshow([real], x, t, title=title, contour=False, ret=False)\n",
    "    return\n",
    "\n",
    "def simple_imshow_continue(ax, bubble, xList, tList, vmin, vmax, contour=False, title=None, aspect='auto', cmap='tab20c'):\n",
    "    ext = [xList[0],xList[-1],tList[0],tList[-1]]\n",
    "    im = ax.imshow(bubble, interpolation='none', extent=ext, vmin=vmin, vmax=vmax, aspect=aspect, origin='lower', cmap=cmap)\n",
    "    if contour:\n",
    "        ax.contour(xList, tList, bubble, levels=5, linewidths=0.5, colors='k')\n",
    "    clb = plt.colorbar(im, ax = ax, shrink=0.5)\n",
    "    ax.plot(0, 0, 'bo', ms=3)\n",
    "    ax.set_title(title)\n",
    "    return ax\n"
   ]
  },
  {
   "cell_type": "code",
   "execution_count": 3,
   "metadata": {
    "tags": []
   },
   "outputs": [
    {
     "name": "stdout",
     "output_type": "stream",
     "text": [
      "Experiment [2048, 0.7, 0.2]\n"
     ]
    }
   ],
   "source": [
    "case = 'minus'\n",
    "general = get_general_model(case)\n",
    "tempList, massq, right_Vmax, V, dV, Vinv, nTimeMAX, minSim, maxSim = general\n",
    "\n",
    "tmp = 2\n",
    "\n",
    "maxSim = (1000 if tmp == 0 else 2000)\n",
    "temp, m2, sigmafld = get_model(*general, tmp)\n",
    "exp_params = [nLat, m2, temp]\n",
    "print('Experiment', exp_params)"
   ]
  },
  {
   "cell_type": "code",
   "execution_count": 5,
   "metadata": {
    "tags": []
   },
   "outputs": [
    {
     "name": "stdout",
     "output_type": "stream",
     "text": [
      "2.70793613122138\n",
      "[1.0, 1.12, 1.25, 1.37, 1.5, 1.62, 1.75, 1.87, 1.99, 2.12, 2.24, 2.37]\n"
     ]
    }
   ],
   "source": [
    "crit_thresh = right_Vmax + 5.*sigmafld; print(crit_thresh)\n",
    "peak_thresh = 2.8\n",
    "tv_thresh   = 2.5\n",
    "crit_rad    = 20\n",
    "\n",
    "threshm, threshM = right_Vmax + 0.*sigmafld, right_Vmax + 4.*sigmafld\n",
    "ampList = np.linspace(threshm, threshM, 12); print([round(ii, 2) for ii in ampList])\n",
    "\n",
    "winsize = 200\n",
    "plots= False"
   ]
  },
  {
   "cell_type": "code",
   "execution_count": 7,
   "metadata": {
    "tags": []
   },
   "outputs": [
    {
     "name": "stdout",
     "output_type": "stream",
     "text": [
      "[   0    2    6 ... 1994 1996 1997]\n"
     ]
    }
   ],
   "source": [
    "sim = 10\n",
    "\n",
    "path2cleansim = clean_sim_location(*exp_params, sim)\n",
    "if os.path.exists(path2cleansim):\n",
    "    print('Starting simulation, temp:', sim, temp)\n",
    "\n",
    "fullreal = np.load(path2cleansim)\n",
    "nCfull, nTfull, nNfull = np.shape(fullreal)\n",
    "\n",
    "bubble = np.copy(fullreal[0])\n",
    "bubble = np.abs(bubble)\n",
    "bubble = np.array([gaussian_filter(bubble, 1., mode='nearest')])\n",
    "\n",
    "nC, nT, nN = np.shape(bubble)\n",
    "tcen, xcen = find_nucleation_center(bubble[0], phieq, crit_thresh, crit_rad)\n",
    "tList = np.linspace(-tcen, nT-1-tcen, nT)\n",
    "xList = np.linspace(-xcen, nN-1-xcen, nN)\n",
    "\n",
    "bool, vellist = True, []\n",
    "\n",
    "vCOMmeas, varmeas = find_COM_vel(bubble, ampList, winsize, nLat, lightc, phieq, tv_thresh, crit_thresh, crit_rad, plots)\n",
    "if np.isnan(vCOMmeas):\n",
    "    print('Dead end at step 0.')\n",
    "    bool = False\n",
    "\n",
    "st = 0\n",
    "doloop = False\n",
    "\n",
    "if doloop:\n",
    "    while np.abs(vCOMmeas) >= 0.03 and bool:\n",
    "        if len(vellist) > 0:\n",
    "            copy = np.copy(fullreal)[:1]\n",
    "\n",
    "            wcop = get_totvel_from_list(vellist)\n",
    "            x, t, copy = boost_bubble(copy, tcen, xcen, wcop)\n",
    "            vTest, _ = find_COM_vel(copy, ampList, winsize, nLat, lightc, phieq, tv_thresh, crit_thresh, crit_rad, False)\n",
    "            print('Upon testing this value, we re-measured vTest compared to vCOMmeas', vTest, vCOMmeas)\n",
    "            if np.abs(vTest) < 0.03:\n",
    "                vCOMmeas = vTest\n",
    "                break\n",
    "            if np.abs(vTest) > np.abs(vellist[-1]):\n",
    "                vCOMmeas = np.sign(vCOMmeas) * random.randint(5, 10)/10.\n",
    "\n",
    "        st+=1\n",
    "        vellist.append(vCOMmeas); print('Step', st, 'vels collected:', vellist);\n",
    "\n",
    "        t, x, bubble = boost_bubble(bubble, tcen, xcen, vCOMmeas)\n",
    "\n",
    "        vCOMmeas, varmeas = find_COM_vel(bubble, ampList, winsize, nLat, lightc, phieq, tv_thresh, crit_thresh, crit_rad, plots)\n",
    "        if np.isnan(vCOMmeas):\n",
    "            print('Dead end.')\n",
    "            bool = False\n",
    "\n",
    "if bool:\n",
    "    print('Final step.')\n",
    "    vellist.append(vCOMmeas)\n",
    "\n",
    "    totvel = get_totvel_from_list(vellist)\n",
    "\n",
    "    if np.sign(np.mean(test)) < 0:\n",
    "        print(sim, \"changing sign\")\n",
    "        fullreal = -fullreal\n",
    "\n",
    "    plot_zoomin(np.copy(fullreal), threshold=peak_thresh, winsize=winsize, title='Original zoom')\n",
    "    \n",
    "    t, x, fullreal2save = boost_bubble(np.copy(fullreal), tcen, xcen, totvel)\n",
    "    plot_zoomin(fullreal2save, threshold=peak_thresh, winsize=winsize, title='Final zoom')\n",
    "\n",
    "    path2RESTsim = rest_sim_location(*exp_params, sim)\n",
    "    np.save(path2RESTsim, np.array([sim, fullreal2save, totvel]))\n",
    "    print('Saved sim', sim, 'total final velocity, vellist:', totvel, vellist)\n"
   ]
  },
  {
   "cell_type": "code",
   "execution_count": 8,
   "metadata": {
    "tags": []
   },
   "outputs": [
    {
     "name": "stdout",
     "output_type": "stream",
     "text": [
      "[   0    2    6 ... 1994 1996 1997]\n"
     ]
    }
   ],
   "source": [
    "path2RESTsim  = rest_sim_location(*exp_params, sim)\n",
    "path2cleansim = clean_sim_location(*exp_params, sim)\n",
    "\n",
    "win = 200\n",
    "\n",
    "if os.path.exists(path2cleansim) and os.path.exists(path2RESTsim):\n",
    "    original = np.load(path2cleansim)\n",
    "    sim, final, totvel = np.load(path2RESTsim, allow_pickle=True)\n",
    "    print('Sim ', sim, 'total boost', totvel)\n",
    "\n",
    "    fig, ax = plt.subplots(1, 2, figsize = (8,3))\n",
    "    for ii, bubble in enumerate([original, final]):\n",
    "        real = np.copy(bubble[0])\n",
    "        nT, nN = np.shape(real)\n",
    "        \n",
    "        real = gaussian_filter(real, 1, mode='nearest')\n",
    "        real[np.abs(real) > crit_thresh] = crit_thresh\n",
    "\n",
    "        tcen, xcen = find_nucleation_center(real, phieq, crit_thresh, crit_rad)\n",
    "        tl_stop, tr_stop = int(max(0, tcen - win)), int(min(nT, tcen + win//2))\n",
    "        xl_stop, xr_stop = int(max(0, xcen - win)), int(min(nN, xcen + win))\n",
    "\n",
    "        real = real[tl_stop:tr_stop, xl_stop:xr_stop]\n",
    "        nT, nN = np.shape(real)\n",
    "\n",
    "        tcen, xcen = find_nucleation_center(real, phieq, crit_thresh, crit_rad)\n",
    "        t, x = np.linspace(-tcen, nT-1-tcen, nT), np.linspace(-xcen, nN-1-xcen, nN)\n",
    "\n",
    "        if ii == 0: vmin, vmax = np.amin(real), np.amax(real)\n",
    "        simple_imshow_continue(ax[ii], real, x, t, vmin, vmax, contour=False)\n",
    "\n",
    "    beautify(ax, times=-70)\n",
    "    ax[1].grid(which='major', color='black', alpha=1)\n",
    "    ax[0].grid(which='major', color='black', alpha=1)\n",
    "    plt.tight_layout()\n",
    "    plt.show()\n"
   ]
  },
  {
   "cell_type": "code",
   "execution_count": null,
   "metadata": {},
   "outputs": [],
   "source": []
  }
 ],
 "metadata": {
  "kernelspec": {
   "display_name": "Python 3 (ipykernel)",
   "language": "python",
   "name": "python3"
  },
  "language_info": {
   "codemirror_mode": {
    "name": "ipython",
    "version": 3
   },
   "file_extension": ".py",
   "mimetype": "text/x-python",
   "name": "python",
   "nbconvert_exporter": "python",
   "pygments_lexer": "ipython3",
   "version": "3.9.13"
  }
 },
 "nbformat": 4,
 "nbformat_minor": 4
}
