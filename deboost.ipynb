{
 "cells": [
  {
   "cell_type": "markdown",
   "metadata": {},
   "source": [
    "## Deboost Bubbles"
   ]
  },
  {
   "cell_type": "code",
   "execution_count": null,
   "metadata": {
    "tags": []
   },
   "outputs": [],
   "source": [
    "cd '/home/dpirvu/project/paper_prefactor/'"
   ]
  },
  {
   "cell_type": "code",
   "execution_count": 2,
   "metadata": {
    "tags": []
   },
   "outputs": [
    {
     "name": "stdout",
     "output_type": "stream",
     "text": [
      "['/home/dpirvu/project/paper_prefactor', '/cm/shared/apps/python/python37/lib/python37.zip', '/cm/shared/apps/python/python37/lib/python3.7', '/cm/shared/apps/python/python37/lib/python3.7/lib-dynload', '', '/home/dpirvu/.local/lib/python3.7/site-packages', '/cm/shared/apps/python/python37/lib/python3.7/site-packages', '/cm/shared/apps/python/python37/lib/python3.7/site-packages/IPython/extensions', '/home/dpirvu/.ipython', '/home/dpirvu/python_stuff/', '/home/dpirvu/project/paper_prefactor/bubble_codes/']\n",
      "['/home/dpirvu/project/paper_prefactor', '/cm/shared/apps/python/python37/lib/python37.zip', '/cm/shared/apps/python/python37/lib/python3.7', '/cm/shared/apps/python/python37/lib/python3.7/lib-dynload', '', '/home/dpirvu/.local/lib/python3.7/site-packages', '/cm/shared/apps/python/python37/lib/python3.7/site-packages', '/cm/shared/apps/python/python37/lib/python3.7/site-packages/IPython/extensions', '/home/dpirvu/.ipython', '/home/dpirvu/python_stuff/', '/home/dpirvu/project/paper_prefactor/bubble_codes/']\n"
     ]
    }
   ],
   "source": [
    "import os,sys\n",
    "sys.path.append('/home/dpirvu/python_stuff/')\n",
    "sys.path.append('/home/dpirvu/project/paper_prefactor/bubble_codes/')\n",
    "#sys.path.append('/home/dpirvu/project/paper_prefactor/bubble_codes_older/')\n",
    "sys.path.remove('/home/dpirvu/DarkPhotonxunWISE/hmvec-master')\n",
    "print(sys.path)\n",
    "from plotting import *\n",
    "from bubble_tools import *\n",
    "from experiment import *\n",
    "from celluloid import Camera\n",
    "\n",
    "%matplotlib inline"
   ]
  },
  {
   "cell_type": "code",
   "execution_count": 3,
   "metadata": {
    "tags": []
   },
   "outputs": [
    {
     "name": "stdout",
     "output_type": "stream",
     "text": [
      "Experiment [2048, 0.7, 0.2]\n"
     ]
    }
   ],
   "source": [
    "case = 'minus'\n",
    "general = get_general_model(case)\n",
    "tempList, massq, right_Vmax, V, dV, Vinv, nTimeMAX, minSim, maxSim = general\n",
    "\n",
    "tmp = 2\n",
    "\n",
    "maxSim = (1000 if tmp == 0 else 2000)\n",
    "temp, m2, sigmafld = get_model(*general, tmp)\n",
    "exp_params = [nLat, m2, temp]\n",
    "print('Experiment', exp_params)"
   ]
  },
  {
   "cell_type": "code",
   "execution_count": 4,
   "metadata": {
    "tags": []
   },
   "outputs": [],
   "source": [
    "def plot_zoomin(bubble, threshold=2., winsize=100, title=None):\n",
    "    real = np.copy(bubble)\n",
    "    real = real[0]\n",
    "    nT, nN = np.shape(real)\n",
    "    t_centre, x_centre = find_nucleation_center(real, phieq, crit_thresh, crit_rad)\n",
    "    tl_stop, tr_stop = int(max(0, t_centre - winsize)), int(min(nT, t_centre + winsize//2))\n",
    "    xl_stop, xr_stop = int(max(0, x_centre - winsize)), int(min(nN, x_centre + winsize))\n",
    "    real = real[tl_stop:tr_stop, xl_stop:xr_stop]\n",
    "    nT, nN = np.shape(real)\n",
    "    tcen, xcen = find_nucleation_center(real, phieq, crit_thresh, crit_rad)\n",
    "    t, x = np.linspace(-tcen, nT-1-tcen, nT), np.linspace(-xcen, nN-1-xcen, nN)\n",
    "    real[np.abs(real) > threshold] = threshold\n",
    "    simple_imshow([real], x, t, title=title, contour=False, ret=False)\n",
    "    return\n",
    "\n",
    "def simple_imshow_continue(ax, bubble, xList, tList, vmin, vmax, contour=False, title=None, aspect='auto', cmap='tab20c'):\n",
    "    ext = [xList[0],xList[-1],tList[0],tList[-1]]\n",
    "    im = ax.imshow(bubble, interpolation='none', extent=ext, vmin=vmin, vmax=vmax, aspect=aspect, origin='lower', cmap=cmap)\n",
    "    if contour:\n",
    "        ax.contour(xList, tList, bubble, levels=5, linewidths=0.5, colors='k')\n",
    "    clb = plt.colorbar(im, ax = ax, shrink=0.5)\n",
    "    ax.plot(0, 0, 'bo', ms=3)\n",
    "    ax.set_title(title)\n",
    "    return ax\n"
   ]
  },
  {
   "cell_type": "code",
   "execution_count": 5,
   "metadata": {
    "tags": []
   },
   "outputs": [
    {
     "name": "stdout",
     "output_type": "stream",
     "text": [
      "2.70793613122138\n",
      "[1.0, 1.12, 1.25, 1.37, 1.5, 1.62, 1.75, 1.87, 1.99, 2.12, 2.24, 2.37]\n"
     ]
    }
   ],
   "source": [
    "crit_thresh = right_Vmax + 5.*sigmafld; print(crit_thresh)\n",
    "peak_thresh = 2.8\n",
    "tv_thresh   = 2.5\n",
    "crit_rad    = 20\n",
    "\n",
    "threshm, threshM = right_Vmax + 0.*sigmafld, right_Vmax + 4.*sigmafld\n",
    "ampList = np.linspace(threshm, threshM, 12); print([round(ii, 2) for ii in ampList])\n",
    "\n",
    "winsize = 200\n",
    "plots= False"
   ]
  },
  {
   "cell_type": "code",
   "execution_count": 6,
   "metadata": {
    "tags": []
   },
   "outputs": [],
   "source": [
    "dothis = False\n",
    "if dothis:\n",
    "    for sim in range(maxSim):\n",
    "        path2cleansim = clean_sim_location(*exp_params, sim)\n",
    "        path2RESTsim  = rest_sim_location(*exp_params, sim)\n",
    "        if not os.path.exists(path2RESTsim): continue\n",
    "\n",
    "        fullreal = np.load(path2cleansim, allow_pickle=True)\n",
    "        _, _, totvel = np.load(path2RESTsim, allow_pickle=True)\n",
    "        print(sim, totvel)\n",
    "\n",
    "        bubble = np.copy(fullreal[0])\n",
    "        bubble = np.abs(bubble)\n",
    "        bubble = np.array([gaussian_filter(bubble, 2, mode='nearest')])\n",
    "\n",
    "        nC, nT, nN = np.shape(bubble)\n",
    "        tcen, xcen = find_nucleation_center(bubble[0], phieq, crit_thresh, crit_rad)\n",
    "        tList = np.linspace(-tcen, nT-1-tcen, nT)\n",
    "        xList = np.linspace(-xcen, nN-1-xcen, nN)\n",
    "\n",
    "        test = fullreal[0, tcen, xcen-50:xcen+50]\n",
    "        fig, ax = plt.subplots(1,1, figsize = (2.5,1.5))\n",
    "        plt.plot(test)\n",
    "        plt.show()\n",
    "\n",
    "        if np.sign(np.mean(test)) < 0:\n",
    "            print(sim, \"changing sign\")\n",
    "            fullreal = -fullreal\n",
    "        else:\n",
    "            continue\n",
    "\n",
    "        plot_zoomin(np.copy(fullreal), threshold=3, winsize=200, title='Original zoom')\n",
    "\n",
    "        t, x, fullreal2save = boost_bubble(np.copy(fullreal), tcen, xcen, totvel)\n",
    "        plot_zoomin(fullreal2save, threshold=3, winsize=200, title='Final zoom')\n",
    "\n",
    "        np.save(path2RESTsim, np.array([sim, fullreal2save, totvel]))\n",
    "        print('Saved sim', sim, 'total final velocity:', totvel)\n"
   ]
  },
  {
   "cell_type": "code",
   "execution_count": 7,
   "metadata": {
    "tags": []
   },
   "outputs": [
    {
     "name": "stdout",
     "output_type": "stream",
     "text": [
      "[   0    2    6 ... 1994 1996 1997]\n"
     ]
    }
   ],
   "source": [
    "remain2check = np.load('./plots/leftover_sims_2do_'+batch_params(*exp_params)+'.npy')\n",
    "print(remain2check)\n",
    "\n",
    "donothing = False\n",
    "dothis = False\n",
    "if dothis:\n",
    "  #  for sim in range(minSim, maxSim):\n",
    "    for si, sim in enumerate(remain2check):\n",
    "        path2cleansim = clean_sim_location(*exp_params, sim)\n",
    "        if not os.path.exists(path2cleansim): continue\n",
    "        print('Starting simulation, temp:', sim, temp)\n",
    "\n",
    "        fullreal = np.load(path2cleansim)\n",
    "        nCfull, nTfull, nNfull = np.shape(fullreal)\n",
    "\n",
    "        bubble = np.copy(fullreal[0])\n",
    "        bubble = np.abs(bubble)\n",
    "        bubble = np.array([gaussian_filter(bubble, 1., mode='nearest')])\n",
    "\n",
    "        nC, nT, nN = np.shape(bubble)\n",
    "        tcen, xcen = find_nucleation_center(bubble[0], phieq, crit_thresh, crit_rad)\n",
    "        tList = np.linspace(-tcen, nT-1-tcen, nT)\n",
    "        xList = np.linspace(-xcen, nN-1-xcen, nN)\n",
    "\n",
    "        tcenfull, xcenfull = tcen, xcen\n",
    "        tListfull = np.linspace(-tcenfull, nTfull-1-tcenfull, nTfull)\n",
    "        xListfull = np.linspace(-xcenfull, nNfull-1-xcenfull, nNfull)\n",
    "\n",
    "        test = fullreal[0, tcen, xcen-50:xcen+50]\n",
    "        fig, ax = plt.subplots(1,1, figsize = (2.5,1.5))\n",
    "        plt.plot(test)\n",
    "        plt.show()\n",
    "\n",
    "        bool, vellist = True, []\n",
    "        if not donothing:\n",
    "            try:\n",
    "                vCOMmeas, varmeas = find_COM_vel(bubble, ampList, winsize, nLat, lightc, phieq, tv_thresh, crit_thresh, crit_rad, plots)\n",
    "            except:\n",
    "                print('Dunno. Dead end at step 0.')\n",
    "            if np.isnan(vCOMmeas):\n",
    "                print('Dead end at step 0.')\n",
    "                bool = False\n",
    "\n",
    "        st = 0\n",
    "        doloop = False\n",
    "        if doloop:\n",
    "            while np.abs(vCOMmeas) >= 0.03 and bool:\n",
    "                if len(vellist) > 0:\n",
    "                    copy = np.copy(fullreal)[:1]\n",
    "\n",
    "                    wcop = get_totvel_from_list(vellist)\n",
    "                    x, t, copy = boost_bubble(copy, tcenfull, xcenfull, wcop)\n",
    "                    vTest, _ = find_COM_vel(copy, ampList, winsize, nLat, lightc, phieq, tv_thresh, crit_thresh, crit_rad, False)\n",
    "                    print('Upon testing this value, we re-measured vTest compared to vCOMmeas', vTest, vCOMmeas)\n",
    "                    if np.abs(vTest) < 0.03:\n",
    "                        vCOMmeas = vTest\n",
    "                        break\n",
    "                    if np.abs(vTest) > np.abs(vellist[-1]):\n",
    "                        vCOMmeas = np.sign(vCOMmeas) * random.randint(5, 10)/10.\n",
    "\n",
    "                st+=1\n",
    "                vellist.append(vCOMmeas); print('Step', st, 'vels collected:', vellist);\n",
    "                t, x, bubble = boost_bubble(bubble, tcen, xcen, vCOMmeas)\n",
    "\n",
    "                vCOMmeas, varmeas = find_COM_vel(bubble, ampList, winsize, nLat, lightc, phieq, tv_thresh, crit_thresh, crit_rad, plots)\n",
    "                if np.isnan(vCOMmeas):\n",
    "                    print('Dead end.')\n",
    "                    bool = False\n",
    "\n",
    "        if bool:\n",
    "            print('Simulation, temp:', sim, temp, 'doing final step.')\n",
    "            if not donothing:\n",
    "                vellist.append(vCOMmeas)\n",
    "            else:\n",
    "                vellist.append(0.)\n",
    "\n",
    "            totvel = get_totvel_from_list(vellist)\n",
    "\n",
    "            if np.sign(np.mean(test)) < 0:\n",
    "                print(sim, \"changing sign\")\n",
    "                fullreal = -fullreal\n",
    "\n",
    "            plot_zoomin(np.copy(fullreal), threshold=peak_thresh, winsize=winsize, title='Original zoom')\n",
    "\n",
    "            t, x, fullreal2save = boost_bubble(np.copy(fullreal), tcenfull, xcenfull, totvel)\n",
    "            plot_zoomin(fullreal2save, threshold=peak_thresh, winsize=winsize, title='Final zoom')\n",
    "\n",
    "            path2RESTsim = rest_sim_location(*exp_params, sim)\n",
    "            np.save(path2RESTsim, np.array([sim, fullreal2save, totvel]))\n",
    "            print('Saved sim', sim, 'total final velocity, vellist:', totvel, vellist)\n",
    "\n",
    "    print('All Done.')"
   ]
  },
  {
   "cell_type": "code",
   "execution_count": 8,
   "metadata": {
    "tags": []
   },
   "outputs": [
    {
     "name": "stdout",
     "output_type": "stream",
     "text": [
      "[   0    2    6 ... 1994 1996 1997]\n"
     ]
    }
   ],
   "source": [
    "remain2check = np.load('./plots/leftover_sims_2do_'+batch_params(*exp_params)+'.npy')\n",
    "print(remain2check)\n",
    "\n",
    "dothis = False\n",
    "plotpairs = False\n",
    "\n",
    "todolist = []\n",
    "if dothis:\n",
    "    for sim in remain2check:\n",
    "  #  for sim in range(maxSim):\n",
    "        path2RESTsim  = rest_sim_location(*exp_params, sim)\n",
    "        path2cleansim = clean_sim_location(*exp_params, sim)\n",
    "\n",
    "        if os.path.exists(path2cleansim):\n",
    "            if not os.path.exists(path2RESTsim):\n",
    "                todolist.append(sim)\n",
    "            else:\n",
    "                original = np.load(path2cleansim)\n",
    "                sim, final, totvel = np.load(path2RESTsim, allow_pickle=True)\n",
    "                print('Sim ', sim, 'total boost', totvel)\n",
    "\n",
    "                if plotpairs:\n",
    "                    fig, ax = plt.subplots(1, 2, figsize = (8,3))\n",
    "                    for ii, bubble in enumerate([original, final]):\n",
    "                        real = np.copy(bubble[0])\n",
    "                        real = gaussian_filter(real, 1, mode='nearest')\n",
    "                        real[np.abs(real) > crit_thresh] = crit_thresh\n",
    "                        nT, nN = np.shape(real)\n",
    "\n",
    "                        win = 200\n",
    "                        tcen, xcen = find_nucleation_center(real, phieq, crit_thresh, crit_rad)\n",
    "                        tl_stop, tr_stop = int(max(0, tcen - win)), int(min(nT, tcen + win//2))\n",
    "                        xl_stop, xr_stop = int(max(0, xcen - win)), int(min(nN, xcen + win))\n",
    "                        real = real[tl_stop:tr_stop, xl_stop:xr_stop]\n",
    "\n",
    "                        nT, nN = np.shape(real)\n",
    "                        tcen, xcen = find_nucleation_center(real, phieq, crit_thresh, crit_rad)\n",
    "                        t, x = np.linspace(-tcen, nT-1-tcen, nT), np.linspace(-xcen, nN-1-xcen, nN)\n",
    "\n",
    "                        if ii == 0: vmin, vmax = np.min(real), np.max(real)\n",
    "                        simple_imshow_continue(ax[ii], real, x, t, vmin, vmax, contour=False)\n",
    "\n",
    "                    beautify(ax, times=-70)\n",
    "                    ax[1].grid(which='major', color='black', alpha=1)\n",
    "                    ax[0].grid(which='major', color='black', alpha=1)\n",
    "                    plt.title(r'${{\\rm Sim \\, }} {:.0f}, v_{{\\rm COM}} = {:.3f}$'.format(sim, totvel))\n",
    "                    plt.tight_layout()\n",
    "                    plt.show()\n"
   ]
  },
  {
   "cell_type": "code",
   "execution_count": 9,
   "metadata": {
    "tags": []
   },
   "outputs": [
    {
     "name": "stdout",
     "output_type": "stream",
     "text": [
      "[]\n"
     ]
    }
   ],
   "source": [
    "print(todolist)\n",
    "savesims = False\n",
    "if savesims:\n",
    "    np.save('./plots/leftover_sims_2do_'+batch_params(*exp_params), todolist)\n",
    "    remain2check = np.load('./plots/leftover_sims_2do_'+batch_params(*exp_params)+'.npy')\n",
    "    print(len(remain2check))"
   ]
  },
  {
   "cell_type": "code",
   "execution_count": 10,
   "metadata": {
    "tags": []
   },
   "outputs": [],
   "source": [
    "deletesims = True\n",
    "if deletesims:\n",
    "    for sim in []:\n",
    "        path2RESTsim = rest_sim_location(*exp_params, sim)\n",
    "        if os.path.exists(path2RESTsim):\n",
    "            os.remove(path2RESTsim)"
   ]
  },
  {
   "cell_type": "code",
   "execution_count": 11,
   "metadata": {},
   "outputs": [
    {
     "name": "stdout",
     "output_type": "stream",
     "text": [
      "/gpfs/dpirvu/prefactor/x2048_m2eff0.7000_T0.2000_minSim0_maxSim2000_up_to_nTMax262144_timedecays.npy\n",
      "Done!\n"
     ]
    }
   ],
   "source": [
    "dothis = True\n",
    "if dothis:\n",
    "    path = decay_times_file(*exp_params, minSim, maxSim, nTimeMAX)\n",
    "    if os.path.exists(path):\n",
    "        print(path)\n",
    "        decay_times = np.load(path)\n",
    "\n",
    "        minDecTime = 256\n",
    "        alltimes   = decay_times[:,1]\n",
    "        simList2Do = decay_times[alltimes>=minDecTime, 0]\n",
    "\n",
    "        all_vels = []\n",
    "        for sim in simList2Do:\n",
    "            path2RESTsim = rest_sim_location(*exp_params, sim)\n",
    "            if os.path.exists(path2RESTsim):\n",
    "\n",
    "                sim, bubble, totbeta = np.load(path2RESTsim, allow_pickle=True)\n",
    "                all_vels.append(np.array([sim, totbeta]))\n",
    "\n",
    "        np.save(velocities_file(*exp_params), all_vels)\n",
    "  #  rm = np.load('./plots/changesignlist'+batch_params(*exp_params)+'.npy')\n",
    "  #  print(len(all_vels) - len(rm), len(all_vels), len(simList2Do))\n",
    "    print('Done!')\n"
   ]
  },
  {
   "cell_type": "code",
   "execution_count": 12,
   "metadata": {
    "tags": []
   },
   "outputs": [
    {
     "name": "stdout",
     "output_type": "stream",
     "text": [
      "0.2 828\n"
     ]
    },
    {
     "data": {
      "image/png": "[encoded data removed]",
      "text/plain": [
       "<Figure size 300x250 with 1 Axes>"
      ]
     },
     "metadata": {},
     "output_type": "display_data"
    }
   ],
   "source": [
    "fig2, ax = plt.subplots(1, 1, figsize=(3, 2.5))\n",
    "\n",
    "veldata = np.load(velocities_file(*exp_params))\n",
    "\n",
    "simvels, all_vels = veldata[:,0].astype(int), veldata[:,1]\n",
    "print(temp, len(simvels))\n",
    "\n",
    "plt.hist(all_vels, bins=20, label=r'${:.1f}$'.format(temp), density=True)\n",
    "\n",
    "plt.xlim((-1,1))\n",
    "plt.xlabel(r'$v$')\n",
    "beautify(ax, ttl=r'$T$', ncol=1, loc='best', times=-100)\n",
    "plt.show()"
   ]
  },
  {
   "cell_type": "code",
   "execution_count": 16,
   "metadata": {
    "tags": []
   },
   "outputs": [
    {
     "name": "stderr",
     "output_type": "stream",
     "text": [
      "No artists with labels found to put in legend.  Note that artists whose label start with an underscore are ignored when legend() is called with no argument.\n"
     ]
    },
    {
     "name": "stdout",
     "output_type": "stream",
     "text": [
      "sphaleron solution total energy 1.3340080882032619\n",
      "0.2 1.3340080882032619 1.3333333333333333\n",
      "expectation 0.3872 actual std 0.2662\n"
     ]
    },
    {
     "data": {
      "image/png": "[encoded data removed]",
      "text/plain": [
       "<Figure size 300x250 with 1 Axes>"
      ]
     },
     "metadata": {},
     "output_type": "display_data"
    }
   ],
   "source": [
    "fig, ax = plt.subplots(1, 1, figsize = (3.,2.5))\n",
    "cols=cycle(allcolors)\n",
    "\n",
    "veldata = np.array(np.load(velocities_file(*exp_params)))\n",
    "simvels, all_vels = veldata[:,0].astype(int), veldata[:,1]\n",
    "\n",
    "col = next(cols)\n",
    "n, bins, patches = ax.hist(all_vels, bins=20, alpha=1, color=col, density=True, ec=col)\n",
    "n = n[1:]\n",
    "bins = bins[1:]\n",
    "centers = 0.5*(bins[1:] + bins[:-1])\n",
    "xlist = np.linspace(-1., 1, 100)\n",
    "\n",
    "gauss_fit = lambda x, mean, std: np.exp(- (x - mean)**2. / (2.*std**2.)) / np.sqrt(2.*np.pi*std**2.)\n",
    "fit_gauss = lambda x, data: sco.curve_fit(gauss_fit, x, data)[0]\n",
    "best_gauss = fit_gauss(centers, n)\n",
    "ax.plot(xlist, gauss_fit(xlist, *best_gauss), color='k', ls='--')\n",
    "ax.plot(xlist, gauss_fit(xlist, np.mean(all_vels), np.std(all_vels)), color='k', ls=':')\n",
    "\n",
    "try:\n",
    "    instanton = np.load(ansol_instanton_file(*exp_params))\n",
    "    gradinst  = (np.roll(instanton,-1) - instanton)/dx\n",
    "    instantonenergy = dx * np.sum(V(instanton) + 0.5*gradinst**2., axis=0)\n",
    "    print('sphaleron solution total energy', instantonenergy)\n",
    "\n",
    "    print(temp, instantonenergy, 4/3)\n",
    "    bb = (temp/instantonenergy)**0.5\n",
    "    ax.plot(xlist, gauss_fit(xlist, 0., bb), color='r', ls='-')\n",
    "    print('expectation', round(bb, 4), 'actual std', round(np.std(all_vels), 4))\n",
    "except:\n",
    "    print('no instanton file yet.')\n",
    "\n",
    "beautify(ax, times=-80, ttl=r'$T={:.2f}$'.format(temp))\n",
    "ax.set_xlabel(r'$v$')\n",
    "ax.set_ylabel(r'$\\rm PDF$')\n",
    "plt.tight_layout()\n",
    "plt.savefig('./plots/comparison_vels_PDF.pdf')\n",
    "plt.show()\n"
   ]
  },
  {
   "cell_type": "code",
   "execution_count": null,
   "metadata": {},
   "outputs": [],
   "source": []
  }
 ],
 "metadata": {
  "kernelspec": {
   "display_name": "Python 3 (ipykernel)",
   "language": "python",
   "name": "python3"
  },
  "language_info": {
   "codemirror_mode": {
    "name": "ipython",
    "version": 3
   },
   "file_extension": ".py",
   "mimetype": "text/x-python",
   "name": "python",
   "nbconvert_exporter": "python",
   "pygments_lexer": "ipython3",
   "version": "3.9.13"
  }
 },
 "nbformat": 4,
 "nbformat_minor": 4
}
