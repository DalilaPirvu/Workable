{
 "cells": [
  {
   "cell_type": "markdown",
   "metadata": {},
   "source": [
    "# Average Bubble"
   ]
  },
  {
   "cell_type": "code",
   "execution_count": 1,
   "metadata": {
    "tags": []
   },
   "outputs": [
    {
     "name": "stdout",
     "output_type": "stream",
     "text": [
      "/home/dpirvu/project/paper_prefactor\n"
     ]
    }
   ],
   "source": [
    "cd '/home/dpirvu/project/paper_prefactor/'"
   ]
  },
  {
   "cell_type": "code",
   "execution_count": 2,
   "metadata": {
    "tags": []
   },
   "outputs": [
    {
     "name": "stdout",
     "output_type": "stream",
     "text": [
      "['/home/dpirvu/project/paper_prefactor', '/cm/shared/apps/python/python37/lib/python37.zip', '/cm/shared/apps/python/python37/lib/python3.7', '/cm/shared/apps/python/python37/lib/python3.7/lib-dynload', '', '/home/dpirvu/.local/lib/python3.7/site-packages', '/cm/shared/apps/python/python37/lib/python3.7/site-packages', '/cm/shared/apps/python/python37/lib/python3.7/site-packages/IPython/extensions', '/home/dpirvu/.ipython', '/home/dpirvu/python_stuff/', '/home/dpirvu/project/paper_prefactor/bubble_codes/']\n",
      "['/home/dpirvu/project/paper_prefactor', '/cm/shared/apps/python/python37/lib/python37.zip', '/cm/shared/apps/python/python37/lib/python3.7', '/cm/shared/apps/python/python37/lib/python3.7/lib-dynload', '', '/home/dpirvu/.local/lib/python3.7/site-packages', '/cm/shared/apps/python/python37/lib/python3.7/site-packages', '/cm/shared/apps/python/python37/lib/python3.7/site-packages/IPython/extensions', '/home/dpirvu/.ipython', '/home/dpirvu/python_stuff/', '/home/dpirvu/project/paper_prefactor/bubble_codes/']\n"
     ]
    }
   ],
   "source": [
    "import os,sys\n",
    "sys.path.append('/home/dpirvu/python_stuff/')\n",
    "sys.path.append('/home/dpirvu/project/paper_prefactor/bubble_codes/')\n",
    "sys.path.remove('/home/dpirvu/DarkPhotonxunWISE/hmvec-master')\n",
    "print(sys.path)\n",
    "from plotting import *\n",
    "from bubble_tools import *\n",
    "from experiment import *\n",
    "from celluloid import Camera\n",
    "from matplotlib.colors import LogNorm\n",
    "\n",
    "%matplotlib inline"
   ]
  },
  {
   "cell_type": "code",
   "execution_count": 5,
   "metadata": {
    "tags": []
   },
   "outputs": [
    {
     "name": "stdout",
     "output_type": "stream",
     "text": [
      "Experiment [2048, 0.8049999999999999, 0.13]\n"
     ]
    }
   ],
   "source": [
    "case = 'minus'\n",
    "general = get_general_model(case)\n",
    "tempList, massq, right_Vmax, V, dV, Vinv, nTimeMAX, minSim, maxSim = general\n",
    "\n",
    "tmp = 2\n",
    "\n",
    "maxSim = (1000 if tmp == 0 else 3000)\n",
    "temp, m2, sigmafld = get_model(*general, tmp)\n",
    "exp_params = [nLat, m2, temp]\n",
    "print('Experiment', exp_params)"
   ]
  },
  {
   "cell_type": "code",
   "execution_count": 6,
   "metadata": {
    "tags": []
   },
   "outputs": [
    {
     "name": "stdout",
     "output_type": "stream",
     "text": [
      "Looking at at T, m2, sigma: 0.13 0.8049999999999999 0.2661087871323195\n",
      "[ 5 10 15 20 25 30 35 40 45 50]\n",
      "[1.133 1.266 1.399 1.533 1.666 1.799 1.932 2.065 2.198 2.331]\n",
      "Total bubbles included: 0\n",
      "0 simulations for this combination.\n"
     ]
    },
    {
     "ename": "IndexError",
     "evalue": "list index out of range",
     "output_type": "error",
     "traceback": [
      "\u001b[0;31m---------------------------------------------------------------------------\u001b[0m",
      "\u001b[0;31mIndexError\u001b[0m                                Traceback (most recent call last)",
      "\u001b[0;32m/tmp/ipykernel_637428/1479411177.py\u001b[0m in \u001b[0;36m<module>\u001b[0;34m\u001b[0m\n\u001b[1;32m     48\u001b[0m \u001b[0;34m\u001b[0m\u001b[0m\n\u001b[1;32m     49\u001b[0m             \u001b[0mstacks\u001b[0m  \u001b[0;34m=\u001b[0m \u001b[0mstack_bubbles\u001b[0m\u001b[0;34m(\u001b[0m\u001b[0mall_data\u001b[0m\u001b[0;34m,\u001b[0m \u001b[0mwin\u001b[0m\u001b[0;34m,\u001b[0m \u001b[0mphieq\u001b[0m\u001b[0;34m,\u001b[0m \u001b[0mtsh\u001b[0m\u001b[0;34m,\u001b[0m \u001b[0mcth\u001b[0m\u001b[0;34m,\u001b[0m \u001b[0mplots\u001b[0m\u001b[0;34m)\u001b[0m\u001b[0;34m\u001b[0m\u001b[0;34m\u001b[0m\u001b[0m\n\u001b[0;32m---> 50\u001b[0;31m             \u001b[0mavstack\u001b[0m \u001b[0;34m=\u001b[0m \u001b[0maverage_stacks\u001b[0m\u001b[0;34m(\u001b[0m\u001b[0mstacks\u001b[0m\u001b[0;34m,\u001b[0m \u001b[0mwin\u001b[0m\u001b[0;34m,\u001b[0m \u001b[0mnormal\u001b[0m\u001b[0;34m,\u001b[0m \u001b[0mplots\u001b[0m\u001b[0;34m=\u001b[0m\u001b[0;32mFalse\u001b[0m\u001b[0;34m)\u001b[0m\u001b[0;34m\u001b[0m\u001b[0;34m\u001b[0m\u001b[0m\n\u001b[0m\u001b[1;32m     51\u001b[0m             \u001b[0;31m#except:\u001b[0m\u001b[0;34m\u001b[0m\u001b[0;34m\u001b[0m\u001b[0;34m\u001b[0m\u001b[0m\n\u001b[1;32m     52\u001b[0m             \u001b[0;31m#    print('Skipped cind, tind', cind, tind)\u001b[0m\u001b[0;34m\u001b[0m\u001b[0;34m\u001b[0m\u001b[0;34m\u001b[0m\u001b[0m\n",
      "\u001b[0;32m~/project/paper_prefactor/bubble_codes/bubble_tools.py\u001b[0m in \u001b[0;36maverage_stacks\u001b[0;34m(data, winsize, normal, plots)\u001b[0m\n\u001b[1;32m    517\u001b[0m     \u001b[0mnS\u001b[0m \u001b[0;34m=\u001b[0m \u001b[0mlen\u001b[0m\u001b[0;34m(\u001b[0m\u001b[0mdata\u001b[0m\u001b[0;34m[\u001b[0m\u001b[0;36m0\u001b[0m\u001b[0;34m]\u001b[0m\u001b[0;34m)\u001b[0m\u001b[0;34m\u001b[0m\u001b[0;34m\u001b[0m\u001b[0m\n\u001b[1;32m    518\u001b[0m     \u001b[0mprint\u001b[0m\u001b[0;34m(\u001b[0m\u001b[0mnS\u001b[0m\u001b[0;34m,\u001b[0m \u001b[0;34m'simulations for this combination.'\u001b[0m\u001b[0;34m)\u001b[0m\u001b[0;34m\u001b[0m\u001b[0;34m\u001b[0m\u001b[0m\n\u001b[0;32m--> 519\u001b[0;31m     \u001b[0mnC\u001b[0m \u001b[0;34m=\u001b[0m \u001b[0mlen\u001b[0m\u001b[0;34m(\u001b[0m\u001b[0mdata\u001b[0m\u001b[0;34m[\u001b[0m\u001b[0;36m0\u001b[0m\u001b[0;34m]\u001b[0m\u001b[0;34m[\u001b[0m\u001b[0;36m0\u001b[0m\u001b[0;34m]\u001b[0m\u001b[0;34m)\u001b[0m\u001b[0;34m\u001b[0m\u001b[0;34m\u001b[0m\u001b[0m\n\u001b[0m\u001b[1;32m    520\u001b[0m \u001b[0;34m\u001b[0m\u001b[0m\n\u001b[1;32m    521\u001b[0m     \u001b[0mav_mat\u001b[0m\u001b[0;34m,\u001b[0m \u001b[0mav_err_mat\u001b[0m \u001b[0;34m=\u001b[0m \u001b[0mnp\u001b[0m\u001b[0;34m.\u001b[0m\u001b[0mzeros\u001b[0m\u001b[0;34m(\u001b[0m\u001b[0;34m(\u001b[0m\u001b[0;36m2\u001b[0m\u001b[0;34m,\u001b[0m \u001b[0mnC\u001b[0m\u001b[0;34m,\u001b[0m \u001b[0;36m2\u001b[0m\u001b[0;34m*\u001b[0m\u001b[0mwinsize\u001b[0m\u001b[0;34m+\u001b[0m\u001b[0;36m2\u001b[0m\u001b[0;34m,\u001b[0m \u001b[0;36m2\u001b[0m\u001b[0;34m*\u001b[0m\u001b[0mwinsize\u001b[0m\u001b[0;34m+\u001b[0m\u001b[0;36m2\u001b[0m\u001b[0;34m)\u001b[0m\u001b[0;34m)\u001b[0m\u001b[0;34m\u001b[0m\u001b[0;34m\u001b[0m\u001b[0m\n",
      "\u001b[0;31mIndexError\u001b[0m: list index out of range"
     ]
    }
   ],
   "source": [
    "print('Looking at at T, m2, sigma:', temp, m2, sigmafld)\n",
    "\n",
    "crit_radList    = np.array(np.linspace(5, 50, 10), dtype='int'); print(crit_radList)\n",
    "crit_threshList = right_Vmax + np.linspace(0.5, 5, 10) * sigmafld\n",
    "crit_threshList = np.array([round(ii, 3) for ii in crit_threshList]); print(crit_threshList)\n",
    "\n",
    "win = 250\n",
    "plots = False\n",
    "get_data = True\n",
    "get_averaged = True\n",
    "\n",
    "if get_data:\n",
    "    path = decay_times_file(*exp_params, minSim, maxSim, nTimeMAX)\n",
    "    if os.path.exists(path):\n",
    "        decay_times = np.load(path)\n",
    "\n",
    "        minDecTime = 256\n",
    "        alltimes   = decay_times[:,1]\n",
    "        simList2Do = decay_times[alltimes>=minDecTime, 0]\n",
    "\n",
    "    all_data = []\n",
    "    for sim in range(minSim, maxSim):  \n",
    "        path2RESTsim = rest_sim_location(*exp_params, sim)\n",
    "        if os.path.exists(path2RESTsim):\n",
    "            sim, bubble, totbeta = np.load(path2RESTsim, allow_pickle=True)\n",
    "\n",
    "#             real = np.copy(bubble)\n",
    "#             real = np.abs(real[0])\n",
    "#             real = gaussian_filter(real, 1, mode='nearest')\n",
    "#             nT, nN = np.shape(real)\n",
    "#             tcen, xcen = find_nucleation_center(real, phieq, 2.7, 30)\n",
    "#             t, x = np.linspace(-tcen, nT-1-tcen, nT), np.linspace(-xcen, nN-1-xcen, nN)\n",
    "\n",
    "#             test = bubble[0, tcen, xcen-50:xcen+50]\n",
    "#             if np.nanmean(test) < 0:\n",
    "#                 bubble = - bubble\n",
    "\n",
    "            all_data.append(np.array([sim, bubble]))\n",
    "            if len(all_data) > 300:\n",
    "                break\n",
    "    print('Total bubbles included:', len(all_data))\n",
    "\n",
    "if get_averaged:\n",
    "    for cind, cth in enumerate(crit_radList):\n",
    "        for tind, tsh in enumerate(crit_threshList):\n",
    "            path = average_file(*exp_params)+'_critrad'+str(cth)+'_crittsh'+str(tsh)+'.npy'\n",
    "            if os.path.exists(path): continue\n",
    "\n",
    "            stacks  = stack_bubbles(all_data, win, phieq, tsh, cth, plots)\n",
    "            avstack = average_stacks(stacks, win, normal, plots=False)\n",
    "            #except:\n",
    "            #    print('Skipped cind, tind', cind, tind)\n",
    "            #    continue\n",
    "            np.save(path, avstack)\n",
    "            print('Done cind, tind', cind, tind)"
   ]
  },
  {
   "cell_type": "code",
   "execution_count": null,
   "metadata": {
    "tags": []
   },
   "outputs": [
    {
     "name": "stdout",
     "output_type": "stream",
     "text": [
      "Looking at at T, m2, sigma: 0.1 0.85 0.23030938081773686\n"
     ]
    }
   ],
   "source": [
    "print('Looking at at T, m2, sigma:', temp, m2, sigmafld)\n",
    "get_plotcomp = True\n",
    "\n",
    "delt1 = 100\n",
    "\n",
    "if get_plotcomp:\n",
    "    varmat  = np.zeros((len(crit_radList), len(crit_threshList)))\n",
    "    for cind, cth in enumerate(crit_radList):\n",
    "        for tind, tsh in enumerate(crit_threshList):\n",
    "            bubble = np.load(average_file(*exp_params)+'_critrad'+str(cth)+'_crittsh'+str(tsh)+'.npy')\n",
    "            bubble[bubble==0.] = 'nan'\n",
    "\n",
    "            bubble2measure = np.abs(bubble[0,0])\n",
    "            nT, nN = np.shape(bubble2measure)\n",
    "#             for crit_rad in crit_radList:\n",
    "#                 for crit_thresh in crit_threshList:\n",
    "#                     tcen, xcen = find_nucleation_center(bubble2measure, phieq, crit_thresh, crit_rad)\n",
    "#                     tcen -= 35\n",
    "#                     tl,tr = max(0, tcen-delt1), min(nT, tcen+delt1+1)\n",
    "#                     xl,xr = max(0, xcen-delt1), min(nN, xcen+delt1+1)\n",
    "\n",
    "#                     err_f = bubble[1, 0][tl:tr,xl:xr]  #field variance\n",
    "#                     err_m = bubble[1, 1][tl:tr,xl:xr]  #momentum variance\n",
    "#                     varmat[cind, tind] += np.nanmean(np.abs(err_f))\n",
    "            tcen, xcen = find_nucleation_center(bubble2measure, phieq, tsh, cth)\n",
    "            tcen -= 35\n",
    "            tl,tr = max(0, tcen-delt1), min(nT, tcen+delt1+1)\n",
    "            xl,xr = max(0, xcen-delt1), min(nN, xcen+delt1+1)\n",
    "\n",
    "            err_f = bubble[1, 0][tl:tr,xl:xr]  #field variance\n",
    "            err_m = bubble[1, 1][tl:tr,xl:xr]  #momentum variance\n",
    "            varmat[cind, tind] += np.nanmean(np.abs(err_f))\n",
    "\n",
    "    colmin, rowmin = np.where(varmat == np.nanmin(varmat))\n",
    "    final_crit_rad = crit_radList[colmin][0]\n",
    "    final_crit_thresh = crit_threshList[rowmin][0]\n",
    "\n",
    "    fig, ax = plt.subplots(1,1, figsize = (3.5,3))\n",
    "    ext = [crit_threshList[0], crit_threshList[-1], crit_radList[0], crit_radList[-1]]\n",
    "\n",
    "    im0 = plt.imshow(varmat, interpolation=None, norm=LogNorm(), extent=ext, aspect='auto', origin='lower', cmap='RdBu')\n",
    "    clb = plt.colorbar(im0)\n",
    "    clb.ax.set_title(r'${\\rm var} \\, \\left< \\bar{\\varphi} \\right> $', size=11, horizontalalignment='center', verticalalignment='bottom')\n",
    "    clb.ax.yaxis.set_offset_position('right')                         \n",
    "    plt.plot(final_crit_thresh, final_crit_rad, color='white', marker='*')\n",
    "    #plt.plot(final_crit_thresh + 0.5*(crit_threshList[1]-crit_threshList[0]), final_crit_rad + 0.5*(crit_radList[1]-crit_radList[0]), color='white', marker='*')\n",
    "\n",
    "    xx, yy = np.meshgrid(crit_threshList, crit_radList)\n",
    "    ax.contour(xx,yy,np.abs(np.log(varmat)), levels=6, aspect='auto', interpolation='gaussian', extent=ext, origin='lower', colors='k', linewidths=0.5)\n",
    "\n",
    "    ax.set_ylabel(r'$R$')\n",
    "    ax.set_xlabel(r'$\\bar{\\phi}$')\n",
    "    beautify(ax, times=-90)\n",
    "    ax.legend(title=r'$T = {:.2f}$'.format(temp), labelspacing=0., frameon='true', facecolor='white', framealpha=0.85, edgecolor='k', borderpad=0.3)\n",
    "    fig.tight_layout()\n",
    "    plt.savefig('./plots/residual_averaging_T'+str(temp)+'.pdf')\n",
    "    plt.show()"
   ]
  },
  {
   "cell_type": "code",
   "execution_count": null,
   "metadata": {
    "tags": []
   },
   "outputs": [],
   "source": [
    "if True:\n",
    "    tp = 0 # 0 for average, 1 for error\n",
    "    cp = 0 # 0 - field, 1 - momentum\n",
    "    delt = 100; print(delt)\n",
    "\n",
    "    fig, ax = plt.subplots(len(crit_radList), len(crit_threshList), figsize = (len(crit_threshList)*5, len(crit_radList)*5), sharey=True, sharex=True)\n",
    "    for cind, cth in enumerate(crit_radList):\n",
    "        for tind, tsh in enumerate(crit_threshList):\n",
    "            bubble = np.load(average_file(*exp_params)+'_critrad'+str(cth)+'_crittsh'+str(tsh)+'.npy')\n",
    "            bubble[bubble==0.] = 'nan'\n",
    "\n",
    "            bubble2measure = np.abs(bubble[tp, cp])\n",
    "            if cp==0:\n",
    "                bubble2measure[bubble2measure > tsh] = tsh\n",
    "            try:\n",
    "                tcen, xcen = find_nucleation_center(bubble2measure, phieq, tsh, cth)\n",
    "            except:\n",
    "                continue\n",
    "            tcen-=35\n",
    "            nT, nN = np.shape(bubble2measure)\n",
    "            tl,tr = max(0, tcen-delt), min(nT, tcen+delt+1)\n",
    "            xl,xr = max(0, xcen-delt), min(nN, xcen+delt+1)\n",
    "            ext = np.array([xl-xcen,xr-xcen,tl-tcen,tr-tcen])\n",
    "\n",
    "            bubble2plot = bubble2measure[tl:tr,xl:xr]\n",
    "\n",
    "            im0  = ax[cind,tind].imshow(bubble2plot, extent=ext, interpolation=None, origin='lower', cmap='tab20c')\n",
    "            clb0 = plt.colorbar(im0, ax = ax[cind,tind], shrink=0.6)\n",
    "            lab  = r'${{\\rm size}}={:.0f}'.format(cth)+r'$, {{\\rm thresh}}={:.2f}'.format(tsh)\n",
    "            ax[cind,tind].plot(0,0, ls=None, marker='o', color='k', label=lab)\n",
    "            beautify(ax[cind,tind])\n",
    "            ax[cind,tind].legend(loc=4, fancybox=True, frameon=True, framealpha=0.75, borderpad=0.3)\n",
    "\n",
    "            if tsh == final_crit_thresh and cth == final_crit_rad:\n",
    "                ax[cind,tind].plot(0., 0., color='red', ms=10, marker='*')\n",
    "\n",
    "    plt.tight_layout()\n",
    "    plt.show()"
   ]
  },
  {
   "cell_type": "code",
   "execution_count": null,
   "metadata": {},
   "outputs": [],
   "source": [
    "rfin = np.argwhere(crit_radList == final_crit_rad)[0,0]\n",
    "tfin = np.argwhere(crit_threshList == final_crit_thresh)[0,0]\n",
    "crit_rad = final_crit_rad\n",
    "crit_thresh = final_crit_thresh\n",
    "print(rfin, tfin, crit_rad, crit_thresh)\n",
    "\n",
    "get_final_averaged = True\n",
    "if get_final_averaged:\n",
    "    path = decay_times_file(*exp_params, minSim, maxSim, nTimeMAX)\n",
    "    if os.path.exists(path):\n",
    "        decay_times = np.load(path)\n",
    "\n",
    "        minDecTime = 256\n",
    "        alltimes   = decay_times[:,1]\n",
    "        simList2Do = decay_times[alltimes>=minDecTime, 0]\n",
    "\n",
    "    all_data = []\n",
    "    fig, ax = plt.subplots(1,1, figsize = (4.5,2.5))\n",
    "    for sim in simList2Do:\n",
    "        path2RESTsim = rest_sim_location(*exp_params, sim)\n",
    "        if os.path.exists(path2RESTsim):\n",
    "            sim, bubble, totbeta = np.load(path2RESTsim, allow_pickle=True)\n",
    "\n",
    "            real = np.copy(bubble)\n",
    "            real = np.abs(real[0])\n",
    "            real = gaussian_filter(real, 1, mode='nearest')\n",
    "            nT, nN = np.shape(real)\n",
    "            tcen, xcen = find_nucleation_center(real, phieq, crit_thresh, crit_rad)\n",
    "            t, x = np.linspace(-tcen, nT-1-tcen, nT), np.linspace(-xcen, nN-1-xcen, nN)\n",
    "\n",
    "        #    test = bubble[0, tcen, xcen-50:xcen+50]\n",
    "        #    if np.nanmean(test) < 0:\n",
    "        #        bubble = - bubble\n",
    "\n",
    "            test = bubble[0, tcen, xcen-100:xcen+100]\n",
    "            plt.plot(test, lw=1)\n",
    "            plt.title(sim)\n",
    "\n",
    "            all_data.append(np.array([sim, bubble]))\n",
    "    print('Total bubbles included:', len(all_data))\n",
    "    plt.show()\n",
    "\n",
    "    stacks  = stack_bubbles(all_data, win, phieq, crit_thresh, crit_rad, False)\n",
    "    avstack = average_stacks(stacks, win, normal, True)\n",
    "    np.save(average_file(*exp_params), avstack)\n"
   ]
  },
  {
   "cell_type": "code",
   "execution_count": null,
   "metadata": {},
   "outputs": [],
   "source": [
    "def plot_zoomin(real, threshold=2., winsize=100, title=None):\n",
    "    real = real[0]\n",
    "    nT, nN = np.shape(real)\n",
    "    t_centre, x_centre = find_nucleation_center(real, phieq, crit_thresh, crit_rad)\n",
    "    tl_stop, tr_stop = int(max(0, t_centre - winsize)), int(min(nT, t_centre + winsize//2))\n",
    "    xl_stop, xr_stop = int(max(0, x_centre - winsize)), int(min(nN, x_centre + winsize))\n",
    "    real = real[tl_stop:tr_stop, xl_stop:xr_stop]\n",
    "    nT, nN = np.shape(real)\n",
    "    tcen, xcen = find_nucleation_center(real, phieq, crit_thresh, crit_rad)\n",
    "    t, x = np.linspace(-tcen, nT-1-tcen, nT), np.linspace(-xcen, nN-1-xcen, nN)\n",
    "    cds = np.abs(real) > threshold\n",
    "    real[cds] = threshold\n",
    "    simple_imshow([real], x, t, title=title, contour=False, ret=False)\n",
    "    return"
   ]
  },
  {
   "cell_type": "code",
   "execution_count": null,
   "metadata": {},
   "outputs": [],
   "source": [
    "path = average_file(*exp_params)+'_critrad'+str(crit_rad)+'_crittsh'+str(crit_thresh)+'.npy'\n",
    "average_bubble_filtered = np.load(path)\n",
    "\n",
    "plot_zoomin(average_bubble_filtered[0], threshold=20, winsize=60)\n",
    "\n",
    "average_bubble_loaded = np.load(average_file(*exp_params))\n",
    "\n",
    "plot_zoomin(average_bubble_loaded[0], threshold=20, winsize=60)\n"
   ]
  },
  {
   "cell_type": "code",
   "execution_count": null,
   "metadata": {},
   "outputs": [],
   "source": [
    "titl = [r'$\\bar{\\phi}$',  r'$\\bar{\\Pi}$']\n",
    "\n",
    "for avbub in [average_bubble_loaded, average_bubble_filtered]:\n",
    "    bubble2measure = avbub[0][0]\n",
    "    nT, nN = np.shape(bubble2measure)\n",
    "    tcen, xcen = find_nucleation_center(bubble2measure, phieq, crit_thresh, crit_rad)\n",
    "    print(tcen, xcen)\n",
    "    \n",
    "    tcen-= 40\n",
    "    size = 130\n",
    "    tl,tr = max(0, tcen-size), min(nT, tcen+size+1)\n",
    "    xl,xr = max(0, xcen-size), min(nN, xcen+size+1)\n",
    "    ext = np.array([xl-xcen,xr-xcen,tl-tcen,tr-tcen])\n",
    "\n",
    "    fig, ax = plt.subplots(1, 2, figsize = (6, 3), sharey=True)\n",
    "    for cp in range(2):\n",
    "        # 0 - field, 1 - momentum\n",
    "        bubble2plot = np.copy(avbub[0][cp,tl:tr,xl:xr])\n",
    "\n",
    "        im = ax[cp].imshow(bubble2plot, interpolation=None, extent=ext, origin='lower', cmap='tab20b')\n",
    "        cbar = plt.colorbar(im, ax=ax[cp], shrink=0.7)\n",
    "        cbar.ax.set_title(titl[cp])\n",
    "\n",
    "        nT, nN = np.shape(bubble2plot)\n",
    "        tt = np.linspace(tl-tcen, tr-tcen, nT)\n",
    "        xx = np.linspace(xl-xcen, xr-xcen, nN)\n",
    "        ttt1, xxx1 = np.meshgrid(tt, xx)\n",
    "\n",
    "        lavs = [8, 6][cp]\n",
    "    #  ax[cp].contour(xxx1, ttt1, bubble2plot.T, levels=lavs, aspect='auto', interpolation=None, extent=ext, origin='lower', colors='k',linewidths=0.5)\n",
    "        ax[cp].set_xlabel(r'$r$')\n",
    "    ax[0].set_ylabel(r'$t$')\n",
    "    beautify(ax, times=-90)\n",
    "    plt.tight_layout()\n",
    "    plt.savefig('./plots/average_bubble'+str(temp)+'.pdf')\n",
    "    plt.show()\n"
   ]
  },
  {
   "cell_type": "code",
   "execution_count": null,
   "metadata": {},
   "outputs": [],
   "source": [
    "tp = 0# 0 for average, 1 for error\n",
    "\n",
    "titl = [r'$\\bar{\\phi}$',  r'$\\bar{\\Pi}$']\n",
    "\n",
    "for avbub in [average_bubble_loaded, average_bubble_filtered]:\n",
    "    bubble2measure = avbub[0][0]\n",
    "    nT, nN = np.shape(bubble2measure)\n",
    "    tcen, xcen = find_nucleation_center(bubble2measure, phieq, crit_thresh, crit_rad)\n",
    "    print(tcen, xcen)\n",
    "    size = 100\n",
    "    tl,tr = max(0, tcen-size), min(nT, tcen+size+1)\n",
    "    xl,xr = max(0, xcen-size), min(nN, xcen+size+1)\n",
    "    ext = np.array([xl-xcen,xr-xcen,tl-tcen,tr-tcen])\n",
    "\n",
    "    fld_fld = np.copy(avbub[0][0])\n",
    "    fld_mom = np.copy(avbub[0][1])\n",
    "\n",
    "    fld_fld[fld_fld > crit_thresh] = crit_thresh\n",
    "    fld_fld = gaussian_filter1d(fld_fld, 1, mode='nearest')\n",
    "    fld_mom = gaussian_filter1d(fld_mom, 1, mode='nearest')\n",
    "\n",
    "    fld_fld = fld_fld[tl:tr, xl:xr]\n",
    "    fld_mom = fld_mom[tl:tr, xl:xr]\n",
    "\n",
    "    kinetic   = 0.5*fld_mom**2.\n",
    "    gradient  = 0.5*np.gradient(fld_fld, dx)[1]**2.\n",
    "    potential = V(fld_fld)\n",
    "\n",
    "    total = kinetic + gradient + potential\n",
    "    picks = [kinetic, gradient, potential, total]\n",
    "    titl = [r'$\\rm Kinetic$', r'$\\rm Gradient$', r'$\\rm Potential$', r'$\\rm Total$']\n",
    "\n",
    "    fig, ax = plt.subplots(1, 4, figsize = (13, 3), sharey=True)\n",
    "    for fi, field in enumerate(picks):\n",
    "\n",
    "        im = ax[fi].imshow(field, extent=ext, origin='lower', cmap='tab20c')\n",
    "        cbar = fig.colorbar(im, ax=ax[fi], shrink=0.7)\n",
    "\n",
    "        nT, nN = np.shape(field)\n",
    "        tt = np.linspace(tl-tcen, tr-tcen, nT)\n",
    "        xx = np.linspace(xl-xcen, xr-xcen, nN)\n",
    "        ttt1, xxx1 = np.meshgrid(tt, xx)\n",
    "        ax[fi].contour(xxx1, ttt1, field.T, levels=8, aspect='auto', interpolation='none', extent=ext, origin='lower', colors='k', linewidths=0.5)\n",
    "\n",
    "        ax[fi].set_title(titl[fi])\n",
    "        ax[fi].set_xlabel(r'$r$')\n",
    "    ax[0].set_ylabel(r'$t$')\n",
    "    plt.savefig('./plots/energies.pdf')\n",
    "    plt.show()\n"
   ]
  },
  {
   "cell_type": "code",
   "execution_count": null,
   "metadata": {},
   "outputs": [],
   "source": []
  },
  {
   "cell_type": "code",
   "execution_count": null,
   "metadata": {},
   "outputs": [],
   "source": []
  }
 ],
 "metadata": {
  "kernelspec": {
   "display_name": "Python 3 (ipykernel)",
   "language": "python",
   "name": "python3"
  },
  "language_info": {
   "codemirror_mode": {
    "name": "ipython",
    "version": 3
   },
   "file_extension": ".py",
   "mimetype": "text/x-python",
   "name": "python",
   "nbconvert_exporter": "python",
   "pygments_lexer": "ipython3",
   "version": "3.9.13"
  }
 },
 "nbformat": 4,
 "nbformat_minor": 4
}
